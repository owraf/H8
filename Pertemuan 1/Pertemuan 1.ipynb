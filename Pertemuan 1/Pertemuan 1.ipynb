{
  "cells": [
    {
      "cell_type": "markdown",
      "metadata": {
        "id": "8pamml5DUg9v"
      },
      "source": [
        "**MOCHAMAD RAFFLI ISPRIYANTO\n",
        "(PYTN-KS-010)**"
      ]
    },
    {
      "cell_type": "markdown",
      "metadata": {
        "id": "4YZYzpbt-0IR"
      },
      "source": [
        "INI ADALAH NOTEBOOK PERTAMA SAYA"
      ]
    },
    {
      "cell_type": "code",
      "execution_count": null,
      "metadata": {
        "colab": {
          "base_uri": "https://localhost:8080/"
        },
        "id": "_c36FYAo-pSG",
        "outputId": "f8c5ad2c-db8d-450f-fe58-7931b6bebe6a"
      },
      "outputs": [
        {
          "name": "stdout",
          "output_type": "stream",
          "text": [
            "Hello World\n"
          ]
        }
      ],
      "source": [
        "print('Hello World')"
      ]
    },
    {
      "cell_type": "markdown",
      "metadata": {
        "id": "90dq1ppt_5lC"
      },
      "source": [
        "TIPE DATA TUNGGAL"
      ]
    },
    {
      "cell_type": "code",
      "execution_count": null,
      "metadata": {
        "colab": {
          "base_uri": "https://localhost:8080/"
        },
        "id": "10K7Ax92AFHZ",
        "outputId": "e0b41789-e48c-4d38-cc8c-1702f85f1874"
      },
      "outputs": [
        {
          "data": {
            "text/plain": [
              "float"
            ]
          },
          "execution_count": 3,
          "metadata": {},
          "output_type": "execute_result"
        }
      ],
      "source": [
        "type(0.1)"
      ]
    },
    {
      "cell_type": "code",
      "execution_count": null,
      "metadata": {
        "colab": {
          "base_uri": "https://localhost:8080/"
        },
        "id": "w3uOm6ZXAJIl",
        "outputId": "0c412c17-091f-4045-d40c-806b19432da1"
      },
      "outputs": [
        {
          "data": {
            "text/plain": [
              "int"
            ]
          },
          "execution_count": 4,
          "metadata": {},
          "output_type": "execute_result"
        }
      ],
      "source": [
        "type(787)"
      ]
    },
    {
      "cell_type": "code",
      "execution_count": null,
      "metadata": {
        "colab": {
          "base_uri": "https://localhost:8080/"
        },
        "id": "j2pHEYhoAPxE",
        "outputId": "7eae875f-3f31-499b-a6aa-474b8cc89c84"
      },
      "outputs": [
        {
          "name": "stdout",
          "output_type": "stream",
          "text": [
            "(8+8j)\n"
          ]
        }
      ],
      "source": [
        "print(8+8j)"
      ]
    },
    {
      "cell_type": "code",
      "execution_count": null,
      "metadata": {
        "colab": {
          "base_uri": "https://localhost:8080/"
        },
        "id": "5RJbaM2rAp1c",
        "outputId": "3b4e4b56-a06b-4be7-d29d-b5ecfe58b8f9"
      },
      "outputs": [
        {
          "data": {
            "text/plain": [
              "complex"
            ]
          },
          "execution_count": 8,
          "metadata": {},
          "output_type": "execute_result"
        }
      ],
      "source": [
        "type(1-9j)"
      ]
    },
    {
      "cell_type": "markdown",
      "metadata": {
        "id": "uujRL5tOWWn1"
      },
      "source": [
        "VARIABEL"
      ]
    },
    {
      "cell_type": "code",
      "execution_count": null,
      "metadata": {
        "id": "tlXQuTZxA9yn"
      },
      "outputs": [],
      "source": [
        "a = 100\n",
        "b = 1"
      ]
    },
    {
      "cell_type": "code",
      "execution_count": null,
      "metadata": {
        "colab": {
          "base_uri": "https://localhost:8080/"
        },
        "id": "DJkOLfMxWqqN",
        "outputId": "e61a6f7a-0642-417a-8977-3513e4b5dc78"
      },
      "outputs": [
        {
          "data": {
            "text/plain": [
              "1"
            ]
          },
          "execution_count": 3,
          "metadata": {},
          "output_type": "execute_result"
        }
      ],
      "source": [
        "a\n",
        "b"
      ]
    },
    {
      "cell_type": "code",
      "execution_count": null,
      "metadata": {
        "colab": {
          "base_uri": "https://localhost:8080/"
        },
        "id": "TA7yESfkWsO7",
        "outputId": "7d052f25-14a3-4e8a-bc44-031e6ca4e3e5"
      },
      "outputs": [
        {
          "data": {
            "text/plain": [
              "(100, 1)"
            ]
          },
          "execution_count": 4,
          "metadata": {},
          "output_type": "execute_result"
        }
      ],
      "source": [
        "a, b"
      ]
    },
    {
      "cell_type": "code",
      "execution_count": null,
      "metadata": {
        "id": "wWRaNQKTWzfh"
      },
      "outputs": [],
      "source": [
        "c = d = 33"
      ]
    },
    {
      "cell_type": "code",
      "execution_count": null,
      "metadata": {
        "colab": {
          "base_uri": "https://localhost:8080/"
        },
        "id": "Ld70GoSGXQ89",
        "outputId": "5c29fc68-c7e3-4734-9eaf-bf02e3640ba6"
      },
      "outputs": [
        {
          "data": {
            "text/plain": [
              "(33, 33)"
            ]
          },
          "execution_count": 7,
          "metadata": {},
          "output_type": "execute_result"
        }
      ],
      "source": [
        "c, d"
      ]
    },
    {
      "cell_type": "markdown",
      "metadata": {
        "id": "qISNgDOiYKqL"
      },
      "source": [
        "TIPE VARIABEL PADA PYTHON"
      ]
    },
    {
      "cell_type": "code",
      "execution_count": null,
      "metadata": {
        "colab": {
          "base_uri": "https://localhost:8080/"
        },
        "id": "xUReOK2UXYiH",
        "outputId": "e52e9d48-edb2-4a68-ada5-b2b680c1106a"
      },
      "outputs": [
        {
          "name": "stdout",
          "output_type": "stream",
          "text": [
            "3.1\n",
            "Saya Suka Makan Sapi\n"
          ]
        }
      ],
      "source": [
        "var = 3.1\n",
        "print(var)\n",
        "\n",
        "var = 'Saya Suka Makan Sapi'\n",
        "print(var)"
      ]
    },
    {
      "cell_type": "markdown",
      "metadata": {
        "id": "_DWmZb1mZP3Q"
      },
      "source": [
        "NAMA VARIABEL"
      ]
    },
    {
      "cell_type": "code",
      "execution_count": null,
      "metadata": {
        "colab": {
          "base_uri": "https://localhost:8080/"
        },
        "id": "u6HW9zR-Y4v3",
        "outputId": "4c4afe18-9d4e-4a18-bf5b-43fe4d3a77b6"
      },
      "outputs": [
        {
          "name": "stdout",
          "output_type": "stream",
          "text": [
            "Mochamad Raffli Ispriyanto 20 True\n"
          ]
        }
      ],
      "source": [
        "nama = 'Mochamad Raffli Ispriyanto'\n",
        "umur = 20\n",
        "punya_laptop = True\n",
        "print(nama, umur, punya_laptop)"
      ]
    },
    {
      "cell_type": "markdown",
      "metadata": {
        "id": "veK9s9g2aLwE"
      },
      "source": [
        "OPERASI PADA EKSPRESI PADA PYTHON"
      ]
    },
    {
      "cell_type": "code",
      "execution_count": null,
      "metadata": {
        "id": "WHrpOWZJZwce"
      },
      "outputs": [],
      "source": [
        "x = 10\n",
        "y = 2"
      ]
    },
    {
      "cell_type": "code",
      "execution_count": null,
      "metadata": {
        "colab": {
          "base_uri": "https://localhost:8080/"
        },
        "id": "zeHqO1UGbQXW",
        "outputId": "d1a825df-ac6a-4ce4-9320-84555e0e43cc"
      },
      "outputs": [
        {
          "name": "stdout",
          "output_type": "stream",
          "text": [
            "12\n",
            "8\n",
            "20\n",
            "5.0\n",
            "0\n",
            "100\n",
            "5\n"
          ]
        }
      ],
      "source": [
        "print(x+y)\n",
        "print(x-y)\n",
        "print(x*y)\n",
        "print(x/y)\n",
        "print(x%y)\n",
        "print(x**y)\n",
        "print(x//y)"
      ]
    },
    {
      "cell_type": "markdown",
      "metadata": {
        "id": "XucWAdcVb_AK"
      },
      "source": [
        "OPERASI PERBANDINGAN"
      ]
    },
    {
      "cell_type": "code",
      "execution_count": null,
      "metadata": {
        "id": "QoT_hNX6bToj"
      },
      "outputs": [],
      "source": [
        "a = 100\n",
        "b = 10"
      ]
    },
    {
      "cell_type": "code",
      "execution_count": null,
      "metadata": {
        "colab": {
          "base_uri": "https://localhost:8080/"
        },
        "id": "E60_20x6cvxf",
        "outputId": "6fa373d7-c02d-4c0a-a4fd-b5ced0dd447d"
      },
      "outputs": [
        {
          "name": "stdout",
          "output_type": "stream",
          "text": [
            "False\n",
            "True\n",
            "True\n",
            "False\n"
          ]
        }
      ],
      "source": [
        "print(a==b)\n",
        "print(a!=b)\n",
        "print(a>=b)\n",
        "print(a<=b)"
      ]
    },
    {
      "cell_type": "code",
      "execution_count": null,
      "metadata": {
        "id": "bsjRmmd-duR1"
      },
      "outputs": [],
      "source": [
        "a = 100\n",
        "b = 100"
      ]
    },
    {
      "cell_type": "code",
      "execution_count": null,
      "metadata": {
        "colab": {
          "base_uri": "https://localhost:8080/"
        },
        "id": "-zAIgkUOdzkL",
        "outputId": "43fcb256-23e3-427a-9c10-e7b5173fbc8f"
      },
      "outputs": [
        {
          "name": "stdout",
          "output_type": "stream",
          "text": [
            "True\n",
            "False\n",
            "True\n",
            "True\n"
          ]
        }
      ],
      "source": [
        "print(a==b)\n",
        "print(a!=b)\n",
        "print(a>=b)\n",
        "print(a<=b)"
      ]
    },
    {
      "cell_type": "markdown",
      "metadata": {
        "id": "e5y9HKqgees8"
      },
      "source": [
        "MANIPULASI STRING"
      ]
    },
    {
      "cell_type": "code",
      "execution_count": null,
      "metadata": {
        "colab": {
          "base_uri": "https://localhost:8080/"
        },
        "id": "EiDeeepPd1jb",
        "outputId": "64b82c7a-8aa5-483a-b971-635fd07d4d3f"
      },
      "outputs": [
        {
          "name": "stdout",
          "output_type": "stream",
          "text": [
            "indonesia\n"
          ]
        }
      ],
      "source": [
        "a = 'indo'\n",
        "b = 'nesia'\n",
        "print(a+b)"
      ]
    },
    {
      "cell_type": "code",
      "execution_count": null,
      "metadata": {
        "colab": {
          "base_uri": "https://localhost:8080/"
        },
        "id": "qSXYd4nmgaQ8",
        "outputId": "6b389995-739f-49ea-b9d1-4661926fbe47"
      },
      "outputs": [
        {
          "name": "stdout",
          "output_type": "stream",
          "text": [
            "Indonesia Maju\n"
          ]
        }
      ],
      "source": [
        "print('Indonesia ' + 'Maju')"
      ]
    },
    {
      "cell_type": "code",
      "execution_count": null,
      "metadata": {
        "colab": {
          "base_uri": "https://localhost:8080/",
          "height": 35
        },
        "id": "WrpFfOPKgp28",
        "outputId": "9ecf3e3a-b8a4-45d1-f7e2-fba362ef4ddc"
      },
      "outputs": [
        {
          "data": {
            "application/vnd.google.colaboratory.intrinsic+json": {
              "type": "string"
            },
            "text/plain": [
              "'merdeka merdeka merdeka '"
            ]
          },
          "execution_count": 29,
          "metadata": {},
          "output_type": "execute_result"
        }
      ],
      "source": [
        "x = 'merdeka '\n",
        "x*3"
      ]
    },
    {
      "cell_type": "code",
      "execution_count": null,
      "metadata": {
        "colab": {
          "base_uri": "https://localhost:8080/"
        },
        "id": "SHQuJAi2hMxL",
        "outputId": "779e0fa8-1796-47b7-8f66-112f0286fa7e"
      },
      "outputs": [
        {
          "name": "stdout",
          "output_type": "stream",
          "text": [
            "True\n",
            "False\n"
          ]
        }
      ],
      "source": [
        "x = 'merdeka'\n",
        "print(x in 'merdeka atau mati')\n",
        "print(x in 'mereka harus mati')"
      ]
    },
    {
      "cell_type": "code",
      "execution_count": null,
      "metadata": {
        "colab": {
          "base_uri": "https://localhost:8080/"
        },
        "id": "YGOfrLMkhquE",
        "outputId": "f7f4402d-063c-41fb-e318-cb317f5f77f4"
      },
      "outputs": [
        {
          "name": "stdout",
          "output_type": "stream",
          "text": [
            "Indonesia merdeka\n",
            "indonesia merdeka\n",
            "INDONESIA MERDEKA\n",
            "Indonesia Merdeka\n",
            "InDOnESIa MERdEka\n"
          ]
        }
      ],
      "source": [
        "x = 'iNdoNesiA merDeKA'\n",
        "print(x.capitalize())\n",
        "print(x.lower())\n",
        "print(x.upper())\n",
        "print(x.title())\n",
        "print(x.swapcase())"
      ]
    },
    {
      "cell_type": "markdown",
      "metadata": {
        "id": "7QZk4FGcjJbe"
      },
      "source": [
        "LIST DALAM PYTHON"
      ]
    },
    {
      "cell_type": "code",
      "execution_count": null,
      "metadata": {
        "colab": {
          "base_uri": "https://localhost:8080/"
        },
        "id": "8K3C5hhJiQ7c",
        "outputId": "7635729e-720f-4e43-bada-ee229a7dbb3b"
      },
      "outputs": [
        {
          "data": {
            "text/plain": [
              "['indo', 'nesia', 'mer', 'deka']"
            ]
          },
          "execution_count": 33,
          "metadata": {},
          "output_type": "execute_result"
        }
      ],
      "source": [
        "x = ['indo','nesia','mer','deka'] \n",
        "x"
      ]
    },
    {
      "cell_type": "code",
      "execution_count": null,
      "metadata": {
        "colab": {
          "base_uri": "https://localhost:8080/"
        },
        "id": "jUbZjO4YjrOw",
        "outputId": "e222732a-a1c0-49a5-ba05-56929a1eabc6"
      },
      "outputs": [
        {
          "data": {
            "text/plain": [
              "False"
            ]
          },
          "execution_count": 35,
          "metadata": {},
          "output_type": "execute_result"
        }
      ],
      "source": [
        "x = ['indo','nesia','mer','deka'] \n",
        "y = ['mer','deka','indo','nesia'] \n",
        "\n",
        "x==y"
      ]
    },
    {
      "cell_type": "code",
      "execution_count": null,
      "metadata": {
        "colab": {
          "base_uri": "https://localhost:8080/"
        },
        "id": "ymjQYz7Vj6bj",
        "outputId": "92441361-e0ac-49b9-b4af-b00d741dd029"
      },
      "outputs": [
        {
          "data": {
            "text/plain": [
              "['Python', 2.1, 3, True, 2.341]"
            ]
          },
          "execution_count": 37,
          "metadata": {},
          "output_type": "execute_result"
        }
      ],
      "source": [
        "a = ['Python',2.1,3,True,2.341] \n",
        "a"
      ]
    },
    {
      "cell_type": "code",
      "execution_count": null,
      "metadata": {
        "colab": {
          "base_uri": "https://localhost:8080/"
        },
        "id": "pIcRw8H0k-TF",
        "outputId": "ae896ffc-4577-41cc-d8ec-6deee3e7ee6f"
      },
      "outputs": [
        {
          "name": "stdout",
          "output_type": "stream",
          "text": [
            "indo\n",
            "mer\n"
          ]
        }
      ],
      "source": [
        "x = ['indo','nesia','mer','deka'] \n",
        "print(x[0])\n",
        "print(x[2])"
      ]
    },
    {
      "cell_type": "code",
      "execution_count": null,
      "metadata": {
        "colab": {
          "base_uri": "https://localhost:8080/"
        },
        "id": "cbcorWm8lRK8",
        "outputId": "9e344e1b-923c-49a5-e411-7ba063705db9"
      },
      "outputs": [
        {
          "name": "stdout",
          "output_type": "stream",
          "text": [
            "deka\n",
            "nesia\n"
          ]
        }
      ],
      "source": [
        "x = ['indo','nesia','mer','deka'] \n",
        "print(x[-1])\n",
        "print(x[-3])"
      ]
    },
    {
      "cell_type": "code",
      "execution_count": null,
      "metadata": {
        "colab": {
          "base_uri": "https://localhost:8080/"
        },
        "id": "yXoSPVNOlYpV",
        "outputId": "152ecfb9-2659-4768-cdda-72c7d36d2de7"
      },
      "outputs": [
        {
          "name": "stdout",
          "output_type": "stream",
          "text": [
            "['indo', 'nesia', 'mer']\n"
          ]
        }
      ],
      "source": [
        "x = ['indo','nesia','mer','deka'] \n",
        "print(x[0:3])"
      ]
    },
    {
      "cell_type": "code",
      "execution_count": null,
      "metadata": {
        "colab": {
          "base_uri": "https://localhost:8080/"
        },
        "id": "qiVvaT_Mlfjh",
        "outputId": "3bc3b284-d3e3-4c5c-b807-6540afc080a2"
      },
      "outputs": [
        {
          "name": "stdout",
          "output_type": "stream",
          "text": [
            "['indo', 'nesia', 'mer', 'deka']\n",
            "['indo', 'nesia', 'mer', 'deka', '77', 'tahun']\n",
            "['indo', 'nesia', 'mer', 'deka', 'indo', 'nesia', 'mer', 'deka', 'indo', 'nesia', 'mer', 'deka']\n"
          ]
        }
      ],
      "source": [
        "x = ['indo','nesia','mer','deka'] \n",
        "print(x)\n",
        "print(x + ['77','tahun'])\n",
        "print(x*3)"
      ]
    },
    {
      "cell_type": "code",
      "execution_count": null,
      "metadata": {
        "colab": {
          "base_uri": "https://localhost:8080/"
        },
        "id": "xB3YcZ_GmBuD",
        "outputId": "cb79a2ed-1244-4ee3-cd56-af481e851d82"
      },
      "outputs": [
        {
          "name": "stdout",
          "output_type": "stream",
          "text": [
            "4\n",
            "deka\n",
            "nesia\n"
          ]
        }
      ],
      "source": [
        "x = ['indo','nesia','mer','deka'] \n",
        "print(len(x))\n",
        "print(min(x))\n",
        "print(max(x))"
      ]
    },
    {
      "cell_type": "code",
      "execution_count": null,
      "metadata": {
        "colab": {
          "base_uri": "https://localhost:8080/"
        },
        "id": "EB7RfEg2mRW8",
        "outputId": "8e6aaeb7-4230-45b4-cbfe-d0c4d764b836"
      },
      "outputs": [
        {
          "data": {
            "text/plain": [
              "[12, 'nesia', 'mer', 90]"
            ]
          },
          "execution_count": 47,
          "metadata": {},
          "output_type": "execute_result"
        }
      ],
      "source": [
        "x = ['indo','nesia','mer','deka'] \n",
        "x[-1] = 90\n",
        "x[0] = 12\n",
        "x"
      ]
    },
    {
      "cell_type": "code",
      "execution_count": null,
      "metadata": {
        "colab": {
          "base_uri": "https://localhost:8080/"
        },
        "id": "lC0icbTKmp7k",
        "outputId": "aea7a014-5bb4-4a94-944c-9df1eed960c6"
      },
      "outputs": [
        {
          "data": {
            "text/plain": [
              "['indo', 'nesia', 'mer']"
            ]
          },
          "execution_count": 48,
          "metadata": {},
          "output_type": "execute_result"
        }
      ],
      "source": [
        "x = ['indo','nesia','mer','deka'] \n",
        "del(x[-1])\n",
        "x"
      ]
    },
    {
      "cell_type": "code",
      "execution_count": null,
      "metadata": {
        "colab": {
          "base_uri": "https://localhost:8080/"
        },
        "id": "KSS16vEnmzIf",
        "outputId": "6fe2f8bb-bf06-43d5-87c8-cb593d613b48"
      },
      "outputs": [
        {
          "name": "stdout",
          "output_type": "stream",
          "text": [
            "['indo', 'nesia', 'mer']\n",
            "[1, True, 'Data Sains', 'deka']\n"
          ]
        }
      ],
      "source": [
        "x = ['indo','nesia','mer','deka'] \n",
        "print(x[0:3])\n",
        "x[0:3] = [1, True, 'Data Sains']\n",
        "print(x)"
      ]
    },
    {
      "cell_type": "markdown",
      "metadata": {
        "id": "s5LwpRSgnTGk"
      },
      "source": [
        "TUPLE DALAM PYTHON"
      ]
    },
    {
      "cell_type": "code",
      "execution_count": null,
      "metadata": {
        "colab": {
          "base_uri": "https://localhost:8080/"
        },
        "id": "Wwr4PN2RnK46",
        "outputId": "f3913987-d065-41d5-ade6-c37892598e2d"
      },
      "outputs": [
        {
          "data": {
            "text/plain": [
              "('indo', 'nesia', 'mer', 'deka')"
            ]
          },
          "execution_count": 51,
          "metadata": {},
          "output_type": "execute_result"
        }
      ],
      "source": [
        "x = ('indo','nesia','mer','deka')\n",
        "x"
      ]
    },
    {
      "cell_type": "code",
      "execution_count": null,
      "metadata": {
        "colab": {
          "base_uri": "https://localhost:8080/"
        },
        "id": "AARU55Min8UZ",
        "outputId": "ee5eae94-7e7d-4cdb-c39e-7b8a75f697cf"
      },
      "outputs": [
        {
          "name": "stdout",
          "output_type": "stream",
          "text": [
            "deka\n",
            "nesia\n"
          ]
        }
      ],
      "source": [
        "print(x[-1])\n",
        "print(x[-3])"
      ]
    },
    {
      "cell_type": "code",
      "execution_count": null,
      "metadata": {
        "colab": {
          "base_uri": "https://localhost:8080/",
          "height": 35
        },
        "id": "43WNGvsooKVG",
        "outputId": "e1a589b7-a95c-452d-afb2-5a6f38b46327"
      },
      "outputs": [
        {
          "data": {
            "application/vnd.google.colaboratory.intrinsic+json": {
              "type": "string"
            },
            "text/plain": [
              "'mer'"
            ]
          },
          "execution_count": 53,
          "metadata": {},
          "output_type": "execute_result"
        }
      ],
      "source": [
        "(s1, s2, s3, s4) = ('indo','nesia','mer','deka')\n",
        "s3"
      ]
    },
    {
      "cell_type": "markdown",
      "metadata": {
        "id": "UcAlD1p-pTVJ"
      },
      "source": [
        "DICTIONARY DALAM PYTHON"
      ]
    },
    {
      "cell_type": "code",
      "execution_count": null,
      "metadata": {
        "id": "02OCrhp5pP90"
      },
      "outputs": [],
      "source": [
        "jadwal_kuliah = {\n",
        "    'senin' : 'Analisis Real 1',\n",
        "    'selasa' : 'Kecerdasan Buatan',\n",
        "    'rabu' : 'Matematika Diskrit',\n",
        "    'kamis' : 'Riset Operasi',\n",
        "    'jumat' : 'Data Sains'\n",
        "}"
      ]
    },
    {
      "cell_type": "code",
      "execution_count": null,
      "metadata": {
        "colab": {
          "base_uri": "https://localhost:8080/"
        },
        "id": "FHR1vErsqUX3",
        "outputId": "b682c91a-0746-4344-fcf0-559162ecac3e"
      },
      "outputs": [
        {
          "name": "stdout",
          "output_type": "stream",
          "text": [
            "Kecerdasan Buatan\n"
          ]
        }
      ],
      "source": [
        "print(jadwal_kuliah['selasa'])"
      ]
    },
    {
      "cell_type": "code",
      "execution_count": null,
      "metadata": {
        "colab": {
          "base_uri": "https://localhost:8080/"
        },
        "id": "TzyKvuHZqZLl",
        "outputId": "a54deb8a-0adb-4f49-ec1a-b5a1d6267d60"
      },
      "outputs": [
        {
          "data": {
            "text/plain": [
              "{'senin': 'Analisis Real 1',\n",
              " 'selasa': 'Kecerdasan Buatan',\n",
              " 'rabu': 'Matematika Diskrit',\n",
              " 'kamis': 'Riset Operasi',\n",
              " 'jumat': 'Data Sains',\n",
              " 'sabtu': 'Libur'}"
            ]
          },
          "execution_count": 56,
          "metadata": {},
          "output_type": "execute_result"
        }
      ],
      "source": [
        "jadwal_kuliah['sabtu'] = 'Libur'\n",
        "jadwal_kuliah"
      ]
    },
    {
      "cell_type": "code",
      "execution_count": null,
      "metadata": {
        "colab": {
          "base_uri": "https://localhost:8080/"
        },
        "id": "u6MkuSVsql_S",
        "outputId": "aa6a4f00-28aa-4212-bbcd-adbb921e3bd5"
      },
      "outputs": [
        {
          "data": {
            "text/plain": [
              "{'senin': 'Analisis Real 1',\n",
              " 'selasa': 'Kecerdasan Buatan',\n",
              " 'rabu': 'Matematika Diskrit',\n",
              " 'kamis': 'Kewirausahaan',\n",
              " 'jumat': 'Data Sains',\n",
              " 'sabtu': 'Libur'}"
            ]
          },
          "execution_count": 57,
          "metadata": {},
          "output_type": "execute_result"
        }
      ],
      "source": [
        "jadwal_kuliah['kamis'] = 'Kewirausahaan'\n",
        "jadwal_kuliah"
      ]
    },
    {
      "cell_type": "code",
      "execution_count": null,
      "metadata": {
        "id": "UR1lDx0FqzOK"
      },
      "outputs": [],
      "source": [
        "hewan = {}\n",
        "type(hewan)\n",
        "\n",
        "hewan['darat'] = 'kucing'\n",
        "hewan['laut'] = ['ikan','cumi','udang']"
      ]
    },
    {
      "cell_type": "code",
      "execution_count": null,
      "metadata": {
        "colab": {
          "base_uri": "https://localhost:8080/"
        },
        "id": "tdp0PEr9rq0v",
        "outputId": "68b26e44-2394-4f19-d827-6dc5500e6c9f"
      },
      "outputs": [
        {
          "data": {
            "text/plain": [
              "{'darat': 'kucing', 'laut': ['ikan', 'cumi', 'udang']}"
            ]
          },
          "execution_count": 59,
          "metadata": {},
          "output_type": "execute_result"
        }
      ],
      "source": [
        "hewan"
      ]
    },
    {
      "cell_type": "code",
      "execution_count": null,
      "metadata": {
        "colab": {
          "base_uri": "https://localhost:8080/"
        },
        "id": "-2Uzxj-3rv8Z",
        "outputId": "34a583f6-5124-4e24-8041-7bdedc3d6e80"
      },
      "outputs": [
        {
          "data": {
            "text/plain": [
              "{'darat': 'kucing', 'laut': ['ikan', 'cumi', 'udang']}"
            ]
          },
          "execution_count": 61,
          "metadata": {},
          "output_type": "execute_result"
        }
      ],
      "source": [
        "{'darat' : 'kucing',\n",
        "'laut' : ['ikan','cumi','udang']\n",
        "}"
      ]
    },
    {
      "cell_type": "code",
      "execution_count": null,
      "metadata": {
        "colab": {
          "base_uri": "https://localhost:8080/"
        },
        "id": "-FncikjbsJ9a",
        "outputId": "5907f835-644b-45a2-ff6b-6cbf0b3b2374"
      },
      "outputs": [
        {
          "name": "stdout",
          "output_type": "stream",
          "text": [
            "kucing\n",
            "['ikan', 'cumi', 'udang']\n"
          ]
        }
      ],
      "source": [
        "print(hewan['darat'])\n",
        "print(hewan['laut'])"
      ]
    },
    {
      "cell_type": "code",
      "execution_count": null,
      "metadata": {
        "colab": {
          "base_uri": "https://localhost:8080/"
        },
        "id": "YWXVTqdHslGY",
        "outputId": "7bc31d2c-4cec-44ba-c6e5-cccbfcef6539"
      },
      "outputs": [
        {
          "name": "stdout",
          "output_type": "stream",
          "text": [
            "udang\n"
          ]
        }
      ],
      "source": [
        "print(hewan['laut'][2])"
      ]
    },
    {
      "cell_type": "code",
      "execution_count": null,
      "metadata": {
        "id": "TTVYXujYsvrx"
      },
      "outputs": [],
      "source": [
        "harga = {'esth':3000, 'nasi kare':5000, 'tempe':500}"
      ]
    },
    {
      "cell_type": "code",
      "execution_count": null,
      "metadata": {
        "colab": {
          "base_uri": "https://localhost:8080/"
        },
        "id": "75d0uGXntRQw",
        "outputId": "f3552288-59f1-484f-f616-163d6927d7f0"
      },
      "outputs": [
        {
          "name": "stdout",
          "output_type": "stream",
          "text": [
            "dict_items([('esth', 3000), ('nasi kare', 5000), ('tempe', 500)])\n",
            "dict_keys(['esth', 'nasi kare', 'tempe'])\n",
            "dict_values([3000, 5000, 500])\n"
          ]
        }
      ],
      "source": [
        "print(harga.items())\n",
        "print(harga.keys())\n",
        "print(harga.values())"
      ]
    },
    {
      "cell_type": "markdown",
      "metadata": {
        "id": "1WQnPGTit11S"
      },
      "source": [
        "KELANJUTAN BARIS"
      ]
    },
    {
      "cell_type": "code",
      "execution_count": null,
      "metadata": {
        "id": "HJMtGPpat38A"
      },
      "outputs": [],
      "source": [
        "umur_1 = 16\n",
        "umur_2 = 35\n",
        "umur_3 = 54\n"
      ]
    },
    {
      "cell_type": "code",
      "execution_count": null,
      "metadata": {
        "colab": {
          "base_uri": "https://localhost:8080/"
        },
        "id": "E9eQzaYhu-KA",
        "outputId": "2b73715d-5491-4c77-c350-9f650d4bedda"
      },
      "outputs": [
        {
          "data": {
            "text/plain": [
              "True"
            ]
          },
          "execution_count": 72,
          "metadata": {},
          "output_type": "execute_result"
        }
      ],
      "source": [
        "produktif = (umur_1 >= 18 and umur_1 <= 65) or (umur_2 >= 18 and umur_2 <= 65) or (umur_3 >= 18 and umur_3 <= 65)\n",
        "produktif"
      ]
    }
  ],
  "metadata": {
    "colab": {
      "collapsed_sections": [],
      "name": "SESI 1.ipynb",
      "provenance": []
    },
    "kernelspec": {
      "display_name": "Python 3.10.6 64-bit (windows store)",
      "language": "python",
      "name": "python3"
    },
    "language_info": {
      "name": "python",
      "version": "3.10.6"
    },
    "vscode": {
      "interpreter": {
        "hash": "84fd2673a0f847bf80637898000f9b4175f2ffd476d5f31b41a838c2acdb5b76"
      }
    }
  },
  "nbformat": 4,
  "nbformat_minor": 0
}
